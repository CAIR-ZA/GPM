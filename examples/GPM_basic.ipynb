{
 "cells": [
  {
   "cell_type": "markdown",
   "metadata": {},
   "source": [
    "## Gamma-Poisson mixture topic model for short text\n",
    "This notebook gives basic usage examples of the Gamma-Poisson mixture (GPM) topic model for short text. GPM is implemented in a Python package `GPyM_TM` and is available [online](https://pypi.org/project/GPyM-TM/) for use within Python 3 enviroments. The installation can be performed through the use of a standard `pip` install command:<br>\n",
    "<br>\n",
    "`pip install GPyM-TM` <br>\n",
    "<br>\n",
    "The reference for the associated article is: <br>\n",
    "\n",
    "Jocelyn Mazarura, Alta de Waal, Pieter de Villiers, [\"A Gamma-Poisson Mixture Topic Model for Short Text\"](https://doi.org/10.1155/2020/4728095 ), Mathematical Problems in Engineering, vol. 2020, Article ID 4728095, 17 pages, 2020. \n",
    "#### 1. Prepare the environment"
   ]
  },
  {
   "cell_type": "code",
   "execution_count": 1,
   "metadata": {},
   "outputs": [],
   "source": [
    "from GPyM_TM import GPM"
   ]
  },
  {
   "cell_type": "code",
   "execution_count": null,
   "metadata": {},
   "outputs": [],
   "source": []
  }
 ],
 "metadata": {
  "kernelspec": {
   "display_name": "Python 3",
   "language": "python",
   "name": "python3"
  },
  "language_info": {
   "codemirror_mode": {
    "name": "ipython",
    "version": 3
   },
   "file_extension": ".py",
   "mimetype": "text/x-python",
   "name": "python",
   "nbconvert_exporter": "python",
   "pygments_lexer": "ipython3",
   "version": "3.7.4"
  }
 },
 "nbformat": 4,
 "nbformat_minor": 2
}
