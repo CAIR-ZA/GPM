{
  "nbformat": 4,
  "nbformat_minor": 0,
  "metadata": {
    "colab": {
      "name": "Tutorial.ipynb",
      "provenance": [],
      "collapsed_sections": [
        "YwX29OzzlppU"
      ]
    },
    "kernelspec": {
      "name": "python3",
      "display_name": "Python 3"
    }
  },
  "cells": [
    {
      "cell_type": "markdown",
      "metadata": {
        "id": "YwX29OzzlppU"
      },
      "source": [
        "# Introduction:\n",
        "\n",
        "Here we provide a tutorial making use of both the Dirchlet multinomial mixture model and the Poisson model. The objective here is perform topic modelling on a text file, in which each line in said file relates to one document. "
      ]
    },
    {
      "cell_type": "markdown",
      "metadata": {
        "id": "0XpzLPJDMGig"
      },
      "source": [
        "# Preamble"
      ]
    },
    {
      "cell_type": "markdown",
      "metadata": {
        "id": "M7MqRN9vMJK9"
      },
      "source": [
        "We install the package itself, and then the relevant classes:"
      ]
    },
    {
      "cell_type": "code",
      "metadata": {
        "id": "wZ2TWWymluN0",
        "outputId": "57805080-0dc8-4aaf-ab6f-e021e7d42d53",
        "colab": {
          "base_uri": "https://localhost:8080/",
          "height": 136
        }
      },
      "source": [
        "pip install GPyM-TM==3.0.0"
      ],
      "execution_count": 2,
      "outputs": [
        {
          "output_type": "stream",
          "text": [
            "Collecting GPyM-TM==3.0.0\n",
            "  Downloading https://files.pythonhosted.org/packages/da/88/0816826b5b6d2d9fbf4dfff6d6b9e963d85a5ec8dc8e09d5d2bb2381c347/GPyM_TM-3.0.0-py3-none-any.whl\n",
            "Installing collected packages: GPyM-TM\n",
            "  Found existing installation: GPyM-TM 1.3.7\n",
            "    Uninstalling GPyM-TM-1.3.7:\n",
            "      Successfully uninstalled GPyM-TM-1.3.7\n",
            "Successfully installed GPyM-TM-3.0.0\n"
          ],
          "name": "stdout"
        }
      ]
    },
    {
      "cell_type": "markdown",
      "metadata": {
        "id": "drX5SQL68nhc"
      },
      "source": [
        "Thus, having loaded the package we now extract the two classes available within the package."
      ]
    },
    {
      "cell_type": "code",
      "metadata": {
        "id": "HD7R9dKz0WKv"
      },
      "source": [
        "from GPyM_TM import GSDMM\n",
        "from GPyM_TM import GPM"
      ],
      "execution_count": 3,
      "outputs": []
    },
    {
      "cell_type": "markdown",
      "metadata": {
        "id": "JXoPnXEAl3bZ"
      },
      "source": [
        "### Data:"
      ]
    },
    {
      "cell_type": "markdown",
      "metadata": {
        "id": "6qg1TIQVMaR8"
      },
      "source": [
        "We now read in and load the relevant text file making use of one of the functions available in the package, **load_file**, which places the text file in the necessary format for the package. "
      ]
    },
    {
      "cell_type": "markdown",
      "metadata": {
        "id": "Ly4RHh0PM54N"
      },
      "source": [
        "Loading the below allows us to import the text file directly from Google Drive, however this step is not necessary if your text file is stored locally. "
      ]
    },
    {
      "cell_type": "code",
      "metadata": {
        "id": "Qt9kSNm9l9vu",
        "outputId": "31558a0a-c5b6-4de5-954f-159f31f3c4be",
        "colab": {
          "base_uri": "https://localhost:8080/",
          "height": 34
        }
      },
      "source": [
        "from google.colab import drive\n",
        "drive.mount(\"/content/drive\")"
      ],
      "execution_count": 4,
      "outputs": [
        {
          "output_type": "stream",
          "text": [
            "Drive already mounted at /content/drive; to attempt to forcibly remount, call drive.mount(\"/content/drive\", force_remount=True).\n"
          ],
          "name": "stdout"
        }
      ]
    },
    {
      "cell_type": "markdown",
      "metadata": {
        "id": "pLgIif-VMz64"
      },
      "source": [
        "Reading in the data:"
      ]
    },
    {
      "cell_type": "code",
      "metadata": {
        "id": "o_ea5nV8mFMx"
      },
      "source": [
        "name=\"toy_dataset_cleaned\"\n",
        "filename = ('/content/drive/My Drive/Internship/%s.txt' % name)   "
      ],
      "execution_count": 5,
      "outputs": []
    },
    {
      "cell_type": "markdown",
      "metadata": {
        "id": "0TosWQ9pNPl0"
      },
      "source": [
        "We define the number of topics:"
      ]
    },
    {
      "cell_type": "code",
      "metadata": {
        "id": "717E9eHdNOvU"
      },
      "source": [
        "nTopics = 10"
      ],
      "execution_count": 6,
      "outputs": []
    },
    {
      "cell_type": "markdown",
      "metadata": {
        "id": "-yzjh2EKNUGm"
      },
      "source": [
        "Lastly, the text is transformed into the format required by the class, and saved within the variable corpus:"
      ]
    },
    {
      "cell_type": "code",
      "metadata": {
        "id": "cXt1H4lZ5LO_"
      },
      "source": [
        "corpus = GSDMM.load_file(filename)"
      ],
      "execution_count": 7,
      "outputs": []
    },
    {
      "cell_type": "markdown",
      "metadata": {
        "id": "P9GNqaEgNeVF"
      },
      "source": [
        "# Application - GDSMM:"
      ]
    },
    {
      "cell_type": "markdown",
      "metadata": {
        "id": "KEMWWjW0Ni6G"
      },
      "source": [
        "In the code below, we intialize the object which will perform the topic modelling, and call several attributes on the object.\n",
        "\n",
        "For the example. we will provide both the default usage, and a case in which several of the parameters have been specified. "
      ]
    },
    {
      "cell_type": "code",
      "metadata": {
        "id": "LgWUVyWLovqV",
        "outputId": "60df6d9e-b0e2-40ed-c965-4c8b4360c2f0",
        "colab": {
          "base_uri": "https://localhost:8080/",
          "height": 476
        }
      },
      "source": [
        "data_dmm = GSDMM.DMM(corpus, nTopics) # Initialize the object, with default parameters.\n",
        "\n",
        "# data_dmm = GSDMM.DMM(corpus, nTopics, alpha = 0.25, beta = 0.15, nTopWords = 12, iters =5) # Initialize the object.\n",
        "\n",
        "data_dmm.topicAssigmentInitialise() # Performs the inital document assignments and counts\n",
        "data_dmm.inference()\n",
        "\n",
        "psi, theta, selected_psi, selected_theta = data_dmm.worddist() # Determines and stores the psi, theta and selected_psi and selected_theta values\n",
        "   \n",
        "finalAssignments = data_dmm.writeTopicAssignments() # Records the final topic assignments for the documents\n",
        "\n",
        "coherence_topwords = data_dmm.writeTopTopicalWords(finalAssignments) # Record the top words for each document\n",
        "\n",
        "score = data_dmm.coherence(coherence_topwords, len(finalAssignments)) #Calculates and stores the coherence\n",
        "\n",
        "print(\"Final number of topics found: \" + str(len(finalAssignments)))"
      ],
      "execution_count": 8,
      "outputs": [
        {
          "output_type": "stream",
          "text": [
            "corpus=10, words=75, K=10, a=0.100000, b=0.100000, nTopWords=10, iters=15\n",
            "iteration: 0\n",
            "iteration: 1\n",
            "iteration: 2\n",
            "iteration: 3\n",
            "iteration: 4\n",
            "iteration: 5\n",
            "iteration: 6\n",
            "iteration: 7\n",
            "iteration: 8\n",
            "iteration: 9\n",
            "iteration: 10\n",
            "iteration: 11\n",
            "iteration: 12\n",
            "iteration: 13\n",
            "iteration: 14\n",
            "[0 1 2 3 5 7 8 9]\n",
            "cancer abnormal cell spread body disease group growth invade involve \n",
            "oil gas call combination crude exist liquid petroleum sticky substance \n",
            "born current donald january john june office president states trump \n",
            "broccoli cauliflower delicate flavor greener stronger abnormal body cancer cell \n",
            "trump apprentice fame hollywood reality receive star tv walk abnormal \n",
            "cat kitten clowder collective kindle noun abnormal body cancer cell \n",
            "broccoli dozen hearty nutrient rich tasty vegetable abnormal body cancer \n",
            "carnivorous cat domestic furry mammal small typically abnormal body cancer \n",
            "average topic:  6.237884775635033\n",
            "Final number of topics found: 8\n"
          ],
          "name": "stdout"
        }
      ]
    },
    {
      "cell_type": "code",
      "metadata": {
        "id": "k7uLDutP7_S0",
        "outputId": "5cd3a805-a318-4f35-b503-ac13742cfd28",
        "colab": {
          "base_uri": "https://localhost:8080/",
          "height": 357
        }
      },
      "source": [
        "# We can then have to variables in which the selected theta's and psi are saved\n",
        "selected_psi\n",
        "selected_theta"
      ],
      "execution_count": 9,
      "outputs": [
        {
          "output_type": "execute_result",
          "data": {
            "text/plain": [
              "array([[9.96956814e-01, 6.51863805e-05, 1.36336784e-03, 1.36336784e-03,\n",
              "        2.01037928e-05, 6.90451404e-06, 1.23129830e-04, 3.56680195e-05],\n",
              "       [9.96007373e-01, 2.59821030e-04, 1.36206945e-03, 1.36206945e-03,\n",
              "        1.10439294e-04, 5.10433710e-05, 4.13789048e-04, 1.67440219e-04],\n",
              "       [1.17486888e-04, 1.86653305e-02, 2.83219667e-01, 2.83219667e-01,\n",
              "        6.82876259e-02, 2.83219667e-01, 3.38741182e-02, 1.06136193e-02],\n",
              "       [5.16387722e-04, 3.45089706e-02, 6.33178825e-02, 2.62607894e-01,\n",
              "        2.62607894e-01, 2.62607894e-01, 5.75149510e-02, 2.12927691e-02],\n",
              "       [1.35009082e-03, 3.56363004e-02, 8.30346540e-03, 1.25993200e-01,\n",
              "        1.65566068e-02, 1.25993200e-01, 5.41143822e-02, 5.04709464e-01],\n",
              "       [5.90413635e-04, 2.50072906e-02, 4.91282946e-03, 1.31096649e-01,\n",
              "        1.06295765e-02, 1.31096649e-01, 3.98264257e-02, 5.25153102e-01],\n",
              "       [1.27310833e-03, 1.18809038e-01, 7.82999986e-03, 1.18809038e-01,\n",
              "        1.56125452e-02, 2.26633720e-02, 5.61316442e-01, 3.36043103e-02],\n",
              "       [3.00470729e-03, 1.12999170e-01, 1.35151181e-02, 1.12999170e-01,\n",
              "        2.47484630e-02, 3.43285131e-02, 5.33867566e-01, 4.85334151e-02],\n",
              "       [2.40871123e-05, 1.20839173e-01, 6.11966739e-04, 1.09133474e-02,\n",
              "        1.78185640e-03, 3.16135813e-03, 5.77765452e-03, 5.77765452e-03],\n",
              "       [5.01819335e-04, 6.73380499e-01, 4.17563665e-03, 3.38502861e-02,\n",
              "        9.03455930e-03, 1.36975576e-02, 2.12548308e-02, 2.12548308e-02]])"
            ]
          },
          "metadata": {
            "tags": []
          },
          "execution_count": 9
        }
      ]
    },
    {
      "cell_type": "markdown",
      "metadata": {
        "id": "Ii5cQN0U8KjW"
      },
      "source": [
        "# Appplication - GPM"
      ]
    },
    {
      "cell_type": "markdown",
      "metadata": {
        "id": "Jd17Oug08Tx1"
      },
      "source": [
        "Thus, having shown how the topic modelling can be performed through the use of the Dirchlet multinomial mixture model, we now repeat the process making use of the Poisson Model."
      ]
    },
    {
      "cell_type": "markdown",
      "metadata": {
        "id": "IWjZ5cK-odBU"
      },
      "source": [
        "Just as before, we make use of the **load_file** function which correctly formats the text file for the class. "
      ]
    },
    {
      "cell_type": "code",
      "metadata": {
        "id": "K52DnDhEcXHd"
      },
      "source": [
        "corpus = GPM.load_file(filename)"
      ],
      "execution_count": 10,
      "outputs": []
    },
    {
      "cell_type": "markdown",
      "metadata": {
        "id": "2rg4m3ycopdi"
      },
      "source": [
        "Then just as before we initialize the object, and show the relevant results."
      ]
    },
    {
      "cell_type": "code",
      "metadata": {
        "id": "JwnQZ_HV8-zz",
        "outputId": "f19685f5-3750-4fe4-96e5-6c70bcc85439",
        "colab": {
          "base_uri": "https://localhost:8080/",
          "height": 391
        }
      },
      "source": [
        "# Default usage\n",
        "data_gpm = GPM.GPM(corpus, nTopics)\n",
        "\n",
        "# Non-default usage\n",
        "#data_gpm = GPM.GPM(corpus, nTopics, alpha = 0.002, beta = 0.03, gam = 0.06, nTopWords = 12, iters = 7, N = 8)\n",
        "\n",
        "data_gpm.topicAssigmentInitialise()\n",
        "\n",
        "data_gpm.inference()\n",
        "psi, theta, selected_psi, selected_theta = data_gpm.worddist()\n",
        "\n",
        "finalAssignments = data_gpm.writeTopicAssignments()\n",
        "\n",
        "coherence_topwords = data_gpm.writeTopTopicalWords(finalAssignments)\n",
        "\n",
        "score = data_gpm.coherence(coherence_topwords, len(finalAssignments))\n",
        "\n",
        "print(\"Final number of topics found: \" + str(len(finalAssignments)))"
      ],
      "execution_count": 10,
      "outputs": [
        {
          "output_type": "stream",
          "text": [
            "corpus=10, words=75, K=10, a=0.001000, b=0.001000, g=0.100000,nTopWords=10, iters=15, N=20\n",
            "iteration: 0\n",
            "iteration: 1\n",
            "iteration: 2\n",
            "iteration: 3\n",
            "iteration: 4\n",
            "iteration: 5\n",
            "iteration: 6\n",
            "iteration: 7\n",
            "iteration: 8\n",
            "iteration: 9\n",
            "iteration: 10\n",
            "iteration: 11\n",
            "iteration: 12\n",
            "iteration: 13\n",
            "iteration: 14\n",
            "cancer abnormal cell spread eventually tissue uncontrolled body disease group \n",
            "oil gas trump cleaner coal disadvantage environmental fuel natural apprentice \n",
            "broccoli cauliflower delicate flavor greener stronger dozen hearty nutrient rich \n",
            "cat kitten carnivorous domestic furry mammal small typically clowder collective \n",
            "average topic:  8.435969586274934\n",
            "Final number of topics found: 4\n"
          ],
          "name": "stdout"
        }
      ]
    },
    {
      "cell_type": "code",
      "metadata": {
        "id": "h8UPIuCjbFLK",
        "outputId": "f5d7c855-caad-4fd9-aa1a-7f615d1b833b",
        "colab": {
          "base_uri": "https://localhost:8080/",
          "height": 357
        }
      },
      "source": [
        "# We can then have to variables in which the selected theta's and psi are saved\n",
        "selected_psi\n",
        "selected_theta"
      ],
      "execution_count": 11,
      "outputs": [
        {
          "output_type": "execute_result",
          "data": {
            "text/plain": [
              "array([[9.96956814e-01, 6.51863805e-05, 1.36336784e-03, 1.36336784e-03,\n",
              "        2.01037928e-05, 6.90451404e-06, 1.23129830e-04, 3.56680195e-05],\n",
              "       [9.96007373e-01, 2.59821030e-04, 1.36206945e-03, 1.36206945e-03,\n",
              "        1.10439294e-04, 5.10433710e-05, 4.13789048e-04, 1.67440219e-04],\n",
              "       [1.17486888e-04, 1.86653305e-02, 2.83219667e-01, 2.83219667e-01,\n",
              "        6.82876259e-02, 2.83219667e-01, 3.38741182e-02, 1.06136193e-02],\n",
              "       [5.16387722e-04, 3.45089706e-02, 6.33178825e-02, 2.62607894e-01,\n",
              "        2.62607894e-01, 2.62607894e-01, 5.75149510e-02, 2.12927691e-02],\n",
              "       [1.35009082e-03, 3.56363004e-02, 8.30346540e-03, 1.25993200e-01,\n",
              "        1.65566068e-02, 1.25993200e-01, 5.41143822e-02, 5.04709464e-01],\n",
              "       [5.90413635e-04, 2.50072906e-02, 4.91282946e-03, 1.31096649e-01,\n",
              "        1.06295765e-02, 1.31096649e-01, 3.98264257e-02, 5.25153102e-01],\n",
              "       [1.27310833e-03, 1.18809038e-01, 7.82999986e-03, 1.18809038e-01,\n",
              "        1.56125452e-02, 2.26633720e-02, 5.61316442e-01, 3.36043103e-02],\n",
              "       [3.00470729e-03, 1.12999170e-01, 1.35151181e-02, 1.12999170e-01,\n",
              "        2.47484630e-02, 3.43285131e-02, 5.33867566e-01, 4.85334151e-02],\n",
              "       [2.40871123e-05, 1.20839173e-01, 6.11966739e-04, 1.09133474e-02,\n",
              "        1.78185640e-03, 3.16135813e-03, 5.77765452e-03, 5.77765452e-03],\n",
              "       [5.01819335e-04, 6.73380499e-01, 4.17563665e-03, 3.38502861e-02,\n",
              "        9.03455930e-03, 1.36975576e-02, 2.12548308e-02, 2.12548308e-02]])"
            ]
          },
          "metadata": {
            "tags": []
          },
          "execution_count": 11
        }
      ]
    }
  ]
}